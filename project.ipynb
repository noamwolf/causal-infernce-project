{
  "nbformat": 4,
  "nbformat_minor": 0,
  "metadata": {
    "colab": {
      "name": "proj.ipynb",
      "provenance": [],
      "collapsed_sections": [],
      "toc_visible": true
    },
    "kernelspec": {
      "name": "python3",
      "display_name": "Python 3"
    }
  },
  "cells": [
    {
      "cell_type": "markdown",
      "metadata": {
        "id": "A4j1LkCu4reQ",
        "colab_type": "text"
      },
      "source": [
        "We will use xgboost boost as our learners"
      ]
    },
    {
      "cell_type": "code",
      "metadata": {
        "id": "H1SQEeAv4Sv8",
        "colab_type": "code",
        "outputId": "28cb7c38-0191-4847-efff-29138caaa317",
        "colab": {
          "base_uri": "https://localhost:8080/",
          "height": 67
        }
      },
      "source": [
        "!pip install xgboost"
      ],
      "execution_count": 0,
      "outputs": [
        {
          "output_type": "stream",
          "text": [
            "Requirement already satisfied: xgboost in /usr/local/lib/python3.6/dist-packages (0.90)\n",
            "Requirement already satisfied: scipy in /usr/local/lib/python3.6/dist-packages (from xgboost) (1.4.1)\n",
            "Requirement already satisfied: numpy in /usr/local/lib/python3.6/dist-packages (from xgboost) (1.18.2)\n"
          ],
          "name": "stdout"
        }
      ]
    },
    {
      "cell_type": "markdown",
      "metadata": {
        "id": "rAtO5e7OcvH1",
        "colab_type": "text"
      },
      "source": [
        "Needed imports"
      ]
    },
    {
      "cell_type": "code",
      "metadata": {
        "id": "EaVR51WQcuEx",
        "colab_type": "code",
        "colab": {}
      },
      "source": [
        "import pandas as pd\n",
        "import numpy as np\n",
        "from xgboost.sklearn import XGBClassifier\n",
        "from sklearn.model_selection import GridSearchCV, cross_validate, KFold\n",
        "from sklearn.metrics import roc_auc_score\n",
        "from scipy.stats import norm\n",
        "import matplotlib.pyplot as plt"
      ],
      "execution_count": 0,
      "outputs": []
    },
    {
      "cell_type": "markdown",
      "metadata": {
        "id": "KG6aIO0C54hy",
        "colab_type": "text"
      },
      "source": [
        "**Data preparation**"
      ]
    },
    {
      "cell_type": "code",
      "metadata": {
        "id": "c6FV-s-x4_is",
        "colab_type": "code",
        "outputId": "a377c294-f03f-45a7-a994-61c6cc5c99dc",
        "colab": {
          "base_uri": "https://localhost:8080/",
          "height": 84
        }
      },
      "source": [
        "# Wave choosing\n",
        "wc = lambda x: np.logical_or((np.logical_and(x <= 11, x >= 6)), x<=4)\n",
        "waves = [i for i in range(1, 5)] + [i for i in range(6, 12)]\n",
        "# Treatment label\n",
        "tl = 'attr'\n",
        "# Loading data\n",
        "data = pd.read_csv('Speed Dating Data.csv', encoding=\"ISO-8859-1\")\n",
        "data = data[wc(data['wave'].to_numpy())]\n",
        "print('Number of unit without outcome:', data['dec'].isna().sum())\n",
        "data = data[data['dec'].notna()]\n",
        "print('Number of unit without treatment:', data[tl].isna().sum())\n",
        "data = data[data[tl].notna()]\n",
        "# Droping followup questions answers \n",
        "data = data.drop(columns=list(data)[108:])\n",
        "# Droping identifier (exsept the iid that will be dropped later)\n",
        "# and post treatment features\n",
        "data = data.drop(columns=['id', 'idg', 'partner', 'pid', 'like', 'match',\n",
        "                          'match_es', 'dec_o', 'like_o', 'attr_o', 'sinc_o', \n",
        "                          'intel_o', 'fun_o', 'amb_o', 'shar_o'])\n",
        "# String feature will be sparse if we covert them to one hot and are dicretcized\n",
        "# by other features\n",
        "str_list = ['field', 'from', 'career', 'undergra']\n",
        "data = data.drop(columns=str_list)\n",
        "# Categorial features will be coverted to onehot\n",
        "cat_list = ['career_c', 'field_cd']\n",
        "for l in cat_list:\n",
        "    one_hot = pd.get_dummies(data[l], prefix=l)\n",
        "    data = pd.concat([data, one_hot], axis=1)\n",
        "    data = data.drop(columns=[l])\n",
        "# Numeric features\n",
        "num_list = ['mn_sat', 'income', 'tuition','zipcode']\n",
        "for n in num_list:\n",
        "    data[n] = data[n].astype(str).str.replace(',', '')\n",
        "    data[n] = data[n].astype(float)\n",
        "# Binarizing treatment and seperating from the features\n",
        "t = (data[tl] >= 7).to_numpy(dtype=int)\n",
        "data = data.drop(columns=[tl])\n",
        "# number of observation\n",
        "print('Number of observation:', len(t))\n",
        "# Seperating the outcome from the features\n",
        "y = data['dec'].to_numpy()\n",
        "data = data.drop(columns=['dec'])\n",
        "# Seperating the individual id's from the features\n",
        "iid = data['iid'].to_numpy()\n",
        "data = data.drop(columns=['iid'])\n",
        "# Seperating the wave from the features\n",
        "wave = data['wave'].to_numpy()\n",
        "data = data.drop(columns=['wave'])\n",
        "# Indexing fearture back from zero\n",
        "X = data.reset_index(drop=True)\n",
        "# True for indexes of female subject\n",
        "female = X['gender'] == 0\n",
        "# True for indexes of male subject\n",
        "male = X['gender'] == 1\n",
        "# Number of features\n",
        "print('Number of features:', len(list(X)))"
      ],
      "execution_count": 68,
      "outputs": [
        {
          "output_type": "stream",
          "text": [
            "Number of unit without outcome: 0\n",
            "Number of unit without treatment: 32\n",
            "Number of observation: 4230\n",
            "Number of features: 112\n"
          ],
          "name": "stdout"
        }
      ]
    },
    {
      "cell_type": "markdown",
      "metadata": {
        "id": "Ir60ZW-DJjJ5",
        "colab_type": "text"
      },
      "source": [
        "**Checking treatment balancing.**\n",
        "\n",
        "Note the gender is of the one who make the decision."
      ]
    },
    {
      "cell_type": "code",
      "metadata": {
        "id": "DoFOu3_sJi17",
        "colab_type": "code",
        "outputId": "17b631fd-986e-4b45-ce40-149e292cd8bc",
        "colab": {
          "base_uri": "https://localhost:8080/",
          "height": 67
        }
      },
      "source": [
        "print('precent of treated', '{p: 2.2f}%'.format(p=np.sum(t == 1)/len(t)*100))\n",
        "print('precent of treated among the men', '{p: 2.2f}%'.format(p=np.sum(t[male] == 1)/len(t[male])*100))\n",
        "print('precent of treated among the women', '{p: 2.2f}%'.format(p=np.sum(t[female] == 1)/len(t[female])*100))"
      ],
      "execution_count": 3,
      "outputs": [
        {
          "output_type": "stream",
          "text": [
            "precent of treated  44.94%\n",
            "precent of treated among the men  51.73%\n",
            "precent of treated among the women  38.18%\n"
          ],
          "name": "stdout"
        }
      ]
    },
    {
      "cell_type": "markdown",
      "metadata": {
        "id": "EJVlNCbYT_xh",
        "colab_type": "text"
      },
      "source": [
        "**Propensity score**"
      ]
    },
    {
      "cell_type": "markdown",
      "metadata": {
        "id": "l8YDTsZBcLs8",
        "colab_type": "text"
      },
      "source": [
        "Hyper paramerter tuning"
      ]
    },
    {
      "cell_type": "code",
      "metadata": {
        "id": "rViw5H6zU9kK",
        "colab_type": "code",
        "outputId": "39669db1-8e87-4ba5-9b5c-deb455cfd5bf",
        "colab": {
          "base_uri": "https://localhost:8080/",
          "height": 554
        }
      },
      "source": [
        "def grid_search_prop(X, t, wave):\n",
        "    '''Does a grid search for propensity score model \n",
        "    with the waves as the folds of the cross vlidation\n",
        "    printing the prameters the auc of the best model, \n",
        "    and returns the best premeters .\n",
        "    '''\n",
        "    params = {\n",
        "        'min_child_weight': [1, 5, 10],\n",
        "        'gamma': [0.5, 1, 1.5, 2],\n",
        "        'max_delta_step': [0, 1],\n",
        "        'max_depth': [2, 3, 4],\n",
        "        'n_estimators': [10, 20, 30]\n",
        "    }\n",
        "    model = XGBClassifier(n_jobs=1)\n",
        "    X = X.reset_index(drop=True)\n",
        "    wave_cv = [(np.where(wave == w)[0], np.where(wave != w)[0]) for w in waves]\n",
        "    gs = GridSearchCV(model, params, scoring='roc_auc', n_jobs=4, cv=wave_cv,\n",
        "                      verbose=1)\n",
        "    gs.fit(X, t)\n",
        "    print('best parmeters:', gs.best_params_)\n",
        "    print('AUC', gs.best_score_)\n",
        "    return gs.best_params_\n",
        "\n",
        "# Propensity score parmeters for the entire population\n",
        "print('For the entire population:')\n",
        "pp = grid_search_prop(X, t, wave)\n",
        "# Propensity score parmeters for the male\n",
        "print('For the men:')\n",
        "ppm = grid_search_prop(X[male], t[male], wave[male])\n",
        "# Propensity score parmeters for the female\n",
        "print('For the women:')\n",
        "ppf = grid_search_prop(X[female], t[female], wave[female])"
      ],
      "execution_count": 0,
      "outputs": [
        {
          "output_type": "stream",
          "text": [
            "For the entire population:\n",
            "Fitting 10 folds for each of 216 candidates, totalling 2160 fits\n"
          ],
          "name": "stdout"
        },
        {
          "output_type": "stream",
          "text": [
            "[Parallel(n_jobs=4)]: Using backend LokyBackend with 4 concurrent workers.\n",
            "[Parallel(n_jobs=4)]: Done  42 tasks      | elapsed:    4.6s\n",
            "[Parallel(n_jobs=4)]: Done 192 tasks      | elapsed:   11.2s\n",
            "[Parallel(n_jobs=4)]: Done 442 tasks      | elapsed:   22.7s\n",
            "[Parallel(n_jobs=4)]: Done 792 tasks      | elapsed:   39.2s\n",
            "[Parallel(n_jobs=4)]: Done 1242 tasks      | elapsed:  1.0min\n",
            "[Parallel(n_jobs=4)]: Done 1792 tasks      | elapsed:  1.4min\n",
            "[Parallel(n_jobs=4)]: Done 2160 out of 2160 | elapsed:  1.7min finished\n"
          ],
          "name": "stderr"
        },
        {
          "output_type": "stream",
          "text": [
            "best parmeters: {'gamma': 2, 'max_delta_step': 0, 'max_depth': 2, 'min_child_weight': 1, 'n_estimators': 30}\n",
            "AUC 0.7334168157800507\n",
            "For the men:\n",
            "Fitting 10 folds for each of 216 candidates, totalling 2160 fits\n"
          ],
          "name": "stdout"
        },
        {
          "output_type": "stream",
          "text": [
            "[Parallel(n_jobs=4)]: Using backend LokyBackend with 4 concurrent workers.\n",
            "[Parallel(n_jobs=4)]: Done  76 tasks      | elapsed:    1.9s\n",
            "[Parallel(n_jobs=4)]: Done 376 tasks      | elapsed:   10.3s\n",
            "[Parallel(n_jobs=4)]: Done 876 tasks      | elapsed:   24.3s\n",
            "[Parallel(n_jobs=4)]: Done 1576 tasks      | elapsed:   43.9s\n",
            "[Parallel(n_jobs=4)]: Done 2160 out of 2160 | elapsed:  1.0min finished\n",
            "[Parallel(n_jobs=4)]: Using backend LokyBackend with 4 concurrent workers.\n"
          ],
          "name": "stderr"
        },
        {
          "output_type": "stream",
          "text": [
            "best parmeters: {'gamma': 1, 'max_delta_step': 0, 'max_depth': 2, 'min_child_weight': 1, 'n_estimators': 20}\n",
            "AUC 0.6970210606167898\n",
            "For the women:\n",
            "Fitting 10 folds for each of 216 candidates, totalling 2160 fits\n"
          ],
          "name": "stdout"
        },
        {
          "output_type": "stream",
          "text": [
            "[Parallel(n_jobs=4)]: Done  76 tasks      | elapsed:    2.0s\n",
            "[Parallel(n_jobs=4)]: Done 376 tasks      | elapsed:   10.5s\n",
            "[Parallel(n_jobs=4)]: Done 876 tasks      | elapsed:   24.7s\n",
            "[Parallel(n_jobs=4)]: Done 1576 tasks      | elapsed:   45.1s\n"
          ],
          "name": "stderr"
        },
        {
          "output_type": "stream",
          "text": [
            "best parmeters: {'gamma': 1.5, 'max_delta_step': 1, 'max_depth': 2, 'min_child_weight': 5, 'n_estimators': 20}\n",
            "AUC 0.7000116491435124\n"
          ],
          "name": "stdout"
        },
        {
          "output_type": "stream",
          "text": [
            "[Parallel(n_jobs=4)]: Done 2160 out of 2160 | elapsed:  1.0min finished\n"
          ],
          "name": "stderr"
        }
      ]
    },
    {
      "cell_type": "markdown",
      "metadata": {
        "id": "TUmDdmBPccbh",
        "colab_type": "text"
      },
      "source": [
        "Pre computed hyper parameter"
      ]
    },
    {
      "cell_type": "code",
      "metadata": {
        "id": "OJB5mRfIdjhO",
        "colab_type": "code",
        "colab": {}
      },
      "source": [
        "pp = {'gamma': 2, 'max_delta_step': 0, 'max_depth': 2, 'min_child_weight': 1, 'n_estimators': 30}\n",
        "ppm = {'gamma': 1, 'max_delta_step': 0, 'max_depth': 2, 'min_child_weight': 1, 'n_estimators': 20}\n",
        "ppf = {'gamma': 1.5, 'max_delta_step': 1, 'max_depth': 2, 'min_child_weight': 5, 'n_estimators': 20}"
      ],
      "execution_count": 0,
      "outputs": []
    },
    {
      "cell_type": "markdown",
      "metadata": {
        "id": "WwvQUWgAdlHJ",
        "colab_type": "text"
      },
      "source": [
        "Propensity score estimation.\n",
        "\n",
        "During the estimation we can trim based on the propensity score which can be also use by the over estimators"
      ]
    },
    {
      "cell_type": "code",
      "metadata": {
        "id": "plMzSythcKZP",
        "colab_type": "code",
        "colab": {}
      },
      "source": [
        "def prop(X, t, trim=False, pp=None):\n",
        "    '''Computes propensity score estimations on X and t with parameters pp.\n",
        "    If trim is False X, t, p, ov will be returned when X, t is the given\n",
        "    X, t. p will be the propensity score estimation and ov will be None.\n",
        "    If trim is True X, t, p, ov will be returned when X, t are the trimmed X, t\n",
        "    p is the trimmed propensity score estimation and ov boolean nparray that \n",
        "    will be true for untrimmed indexs.\n",
        "    '''\n",
        "    xgb = XGBClassifier(**pp, n_jobs=-1)\n",
        "    xgb.fit(X, t)\n",
        "    p = xgb.predict_proba(X)[:, 1]\n",
        "    ov = None\n",
        "    if trim:\n",
        "        up = np.min([np.max(p[t == 0]), np.max(p[t == 1])])\n",
        "        low = np.max([np.min(p[t == 0]), np.min(p[t == 1])])\n",
        "        ov = np.logical_and(p <= up, p >= low)\n",
        "        X, t, p = X[ov], t[ov], p[ov]\n",
        "    return X, t, p, ov\n",
        "\n"
      ],
      "execution_count": 0,
      "outputs": []
    },
    {
      "cell_type": "markdown",
      "metadata": {
        "id": "d0jO40l1neUj",
        "colab_type": "text"
      },
      "source": [
        "Overlap plot using the propensity score"
      ]
    },
    {
      "cell_type": "code",
      "metadata": {
        "id": "xhbWAJ4wpnus",
        "colab_type": "code",
        "outputId": "372986b7-de9c-4ec1-df26-f1ec0892c953",
        "colab": {
          "base_uri": "https://localhost:8080/",
          "height": 1000
        }
      },
      "source": [
        "def plot_prop(X, t, trim=False, title='', pp=None):\n",
        "    '''plots overlap plot using the propensity score.\n",
        "    pp are the hyper prameter used and title is the title of the plot\n",
        "    '''\n",
        "    _, t, p, _ = prop(X, t, trim, pp=pp)\n",
        "    pc = p[t == 0]\n",
        "    pt = p[t == 1]\n",
        "    plt.hist(pc, alpha=0.5, density=False, label='control')\n",
        "    plt.hist(pt, alpha=0.5, density=False, label='treated')\n",
        "    plt.xlabel('Propensity score')\n",
        "    plt.ylabel('Number of occurrences')\n",
        "    plt.legend()\n",
        "    plt.title(title)\n",
        "    plt.show()\n",
        "\n",
        "plot_prop(X, t, title='Entire population before trimming', trim=False, pp=pp)\n",
        "plot_prop(X[male], t[male], title='Men before trimming',\n",
        "          trim=False, pp=ppm)\n",
        "plot_prop(X[female], t[female], title='Women before trimming',\n",
        "          trim=False, pp=ppf)\n",
        "plot_prop(X, t, title='Entire population After trimming', trim=True, pp=pp)\n",
        "plot_prop(X[male], t[male], title='Men After trimming',\n",
        "          trim=True, pp=ppm)\n",
        "plot_prop(X[female], t[female], title='Women After trimming',\n",
        "          trim=True, pp=ppf)\n",
        "\n",
        "# finding precent of trimmed\n",
        "ove = prop(X, t, trim=True, pp=pp)[3]\n",
        "print('precent of trimmed:', '{p: 2.2f}%'.format(p=(1 - ove.sum()/len(ove))*100))\n",
        "# finding precent of trimmed\n",
        "ovm = prop(X[male], t[male], trim=True, pp=ppm)[3]\n",
        "print('precent of trimmed in the men:', '{p: 2.2f}%'.format(p=(1 - ovm.sum()/len(ovm))*100))\n",
        "ovf = prop(X[female], t[female], trim=True, pp=ppf)[3]\n",
        "print('precent of trimmed in the women:', '{p: 2.2f}%'.format(p=(1 - ovf.sum()/len(ovf))*100))\n"
      ],
      "execution_count": 6,
      "outputs": [
        {
          "output_type": "display_data",
          "data": {
            "image/png": "[encoded data removed]",
            "text/plain": [
              "<Figure size 432x288 with 1 Axes>"
            ]
          },
          "metadata": {
            "tags": []
          }
        },
        {
          "output_type": "display_data",
          "data": {
            "image/png": "[encoded data removed]",
            "text/plain": [
              "<Figure size 432x288 with 1 Axes>"
            ]
          },
          "metadata": {
            "tags": []
          }
        },
        {
          "output_type": "display_data",
          "data": {
            "image/png": "[encoded data removed]",
            "text/plain": [
              "<Figure size 432x288 with 1 Axes>"
            ]
          },
          "metadata": {
            "tags": []
          }
        },
        {
          "output_type": "display_data",
          "data": {
            "image/png": "[encoded data removed]",
            "text/plain": [
              "<Figure size 432x288 with 1 Axes>"
            ]
          },
          "metadata": {
            "tags": []
          }
        },
        {
          "output_type": "display_data",
          "data": {
            "image/png": "[encoded data removed]",
            "text/plain": [
              "<Figure size 432x288 with 1 Axes>"
            ]
          },
          "metadata": {
            "tags": []
          }
        },
        {
          "output_type": "display_data",
          "data": {
            "image/png": "[encoded data removed]",
            "text/plain": [
              "<Figure size 432x288 with 1 Axes>"
            ]
          },
          "metadata": {
            "tags": []
          }
        },
        {
          "output_type": "stream",
          "text": [
            "precent of trimmed:  2.03%\n",
            "precent of trimmed in the men:  0.90%\n",
            "precent of trimmed in the women:  0.00%\n"
          ],
          "name": "stdout"
        }
      ]
    },
    {
      "cell_type": "markdown",
      "metadata": {
        "id": "QPaoWCv6X2-i",
        "colab_type": "text"
      },
      "source": [
        "Inverse Propensity weighting"
      ]
    },
    {
      "cell_type": "code",
      "metadata": {
        "id": "BbOlLHEaYGI9",
        "colab_type": "code",
        "outputId": "54d1b77e-deb6-4de0-eb35-08b9a8fb9b11",
        "colab": {
          "base_uri": "https://localhost:8080/",
          "height": 118
        }
      },
      "source": [
        "def iptw(X, t, y, pp, trim=True):\n",
        "    _, t, e, ov = prop(X, t, trim, pp)\n",
        "    y = y[ov]\n",
        "    w1 = 1 / np.sum(t / e)\n",
        "    w0 = 1 / np.sum((1 - t) / (1 - e))\n",
        "    ate1 = np.sum(y * t / e)\n",
        "    ate0 = np.sum(y * (1 - t) / (1 - e))\n",
        "    return w1 * ate1 - w0 * ate0\n",
        "\n",
        "print('IPTW ATE estimation for the entire population:')\n",
        "print('ATE =', iptw(X, t, y, trim=True, pp=pp))\n",
        "print('IPTW ATE estimation for the men:')\n",
        "print('ATE = ', iptw(X[male], t[male], y[male], trim=True, pp=ppm))\n",
        "print('IPTW ATE estimation for the women:')\n",
        "print('ATE = ', iptw(X[female], t[female], y[female], trim=True, pp=ppf))"
      ],
      "execution_count": 69,
      "outputs": [
        {
          "output_type": "stream",
          "text": [
            "IPTW ATE estimation for the entire population:\n",
            "ATE = 0.3413150927335008\n",
            "IPTW ATE estimation for the men:\n",
            "ATE =  0.38139762908711156\n",
            "IPTW ATE estimation for the women:\n",
            "ATE =  0.32443409692615716\n"
          ],
          "name": "stdout"
        }
      ]
    },
    {
      "cell_type": "markdown",
      "metadata": {
        "id": "0rFQG_Jp0fhZ",
        "colab_type": "text"
      },
      "source": [
        "S learner"
      ]
    },
    {
      "cell_type": "code",
      "metadata": {
        "id": "uBaPC7mQ0wnh",
        "colab_type": "code",
        "outputId": "a694aacd-cd3e-4bb1-ba87-e1728a14c21d",
        "colab": {
          "base_uri": "https://localhost:8080/",
          "height": 339
        }
      },
      "source": [
        "def grid_search_s(X, t, y, pp,trim=True):\n",
        "    if trim:\n",
        "        X, t, _, ov = prop(X, t, pp=pp, trim=True)\n",
        "        y = y[ov]\n",
        "    # The colsample was hand chosen to not reduce (significantly) the AUC\n",
        "    # while being as low as possible, going above 400 estimators does not\n",
        "    # significantly improve preformence but significantly impact the run time\n",
        "    params = {\n",
        "        'colsample_bytree':[0.5],\n",
        "        'colsample_bylevel':[0.1],\n",
        "        'colsample_bynode':[0.2],\n",
        "        'learning_rate': [0.2],\n",
        "        'max_depth': [3, 4, 5, 6],\n",
        "        'n_estimators': [300, 400]\n",
        "    }\n",
        "    X = X.reset_index(drop=True)\n",
        "    nf = len(list(X))\n",
        "    stacked_t = np.transpose(np.tile(t, (nf + 1, 1)))\n",
        "    Xt = pd.concat([X, pd.DataFrame(stacked_t)], axis=1)\n",
        "    model = XGBClassifier(n_jobs=1)\n",
        "    cv = KFold(shuffle=True, random_state=42)\n",
        "    gs = GridSearchCV(model, params, scoring='roc_auc', n_jobs=4, cv=cv,\n",
        "                       verbose=1)\n",
        "    gs.fit(Xt, y)\n",
        "    print('best parmeters:', gs.best_params_)\n",
        "    print('best AUC:', gs.best_score_)\n",
        "    return gs.best_params_\n",
        "\n",
        "# S learner parmeters for the entire population\n",
        "print('For the entire population:')\n",
        "ps = grid_search_s(X, t, y, pp)\n",
        "# S learner parmeters for the men\n",
        "print('For the men:')\n",
        "psm = grid_search_s(X[male], t[male], y[male], ppm)\n",
        "# S learner parmeters for the women\n",
        "print('For the women:')\n",
        "psf = grid_search_s(X[female], t[female], y[female], ppf)"
      ],
      "execution_count": 35,
      "outputs": [
        {
          "output_type": "stream",
          "text": [
            "For the entire population:\n",
            "Fitting 5 folds for each of 8 candidates, totalling 40 fits\n"
          ],
          "name": "stdout"
        },
        {
          "output_type": "stream",
          "text": [
            "[Parallel(n_jobs=4)]: Using backend LokyBackend with 4 concurrent workers.\n",
            "[Parallel(n_jobs=4)]: Done  40 out of  40 | elapsed:   39.7s finished\n"
          ],
          "name": "stderr"
        },
        {
          "output_type": "stream",
          "text": [
            "best parmeters: {'colsample_bylevel': 0.1, 'colsample_bynode': 0.2, 'colsample_bytree': 0.5, 'learning_rate': 0.2, 'max_depth': 6, 'n_estimators': 400}\n",
            "best AUC: 0.9057664587044651\n",
            "For the men:\n",
            "Fitting 5 folds for each of 8 candidates, totalling 40 fits\n"
          ],
          "name": "stdout"
        },
        {
          "output_type": "stream",
          "text": [
            "[Parallel(n_jobs=4)]: Using backend LokyBackend with 4 concurrent workers.\n",
            "[Parallel(n_jobs=4)]: Done  40 out of  40 | elapsed:   20.5s finished\n"
          ],
          "name": "stderr"
        },
        {
          "output_type": "stream",
          "text": [
            "best parmeters: {'colsample_bylevel': 0.1, 'colsample_bynode': 0.2, 'colsample_bytree': 0.5, 'learning_rate': 0.2, 'max_depth': 5, 'n_estimators': 400}\n",
            "best AUC: 0.9111388819474829\n",
            "For the women:\n",
            "Fitting 5 folds for each of 8 candidates, totalling 40 fits\n"
          ],
          "name": "stdout"
        },
        {
          "output_type": "stream",
          "text": [
            "[Parallel(n_jobs=4)]: Using backend LokyBackend with 4 concurrent workers.\n",
            "[Parallel(n_jobs=4)]: Done  40 out of  40 | elapsed:   20.8s finished\n"
          ],
          "name": "stderr"
        },
        {
          "output_type": "stream",
          "text": [
            "best parmeters: {'colsample_bylevel': 0.1, 'colsample_bynode': 0.2, 'colsample_bytree': 0.5, 'learning_rate': 0.2, 'max_depth': 4, 'n_estimators': 400}\n",
            "best AUC: 0.8991704778679221\n"
          ],
          "name": "stdout"
        }
      ]
    },
    {
      "cell_type": "markdown",
      "metadata": {
        "id": "2FHB8TVy-je5",
        "colab_type": "text"
      },
      "source": [
        "Pre computed parameters"
      ]
    },
    {
      "cell_type": "code",
      "metadata": {
        "id": "rL0JiZEXB1HE",
        "colab_type": "code",
        "colab": {}
      },
      "source": [
        "ps = {'colsample_bylevel': 0.1, 'colsample_bynode': 0.2, 'colsample_bytree': 0.5, 'learning_rate': 0.2, 'max_depth': 6, 'n_estimators': 400}\n",
        "psm = {'colsample_bylevel': 0.1, 'colsample_bynode': 0.2, 'colsample_bytree': 0.5, 'learning_rate': 0.2, 'max_depth': 5, 'n_estimators': 400}\n",
        "psf = {'colsample_bylevel': 0.1, 'colsample_bynode': 0.2, 'colsample_bytree': 0.5, 'learning_rate': 0.2, 'max_depth': 4, 'n_estimators': 400}"
      ],
      "execution_count": 0,
      "outputs": []
    },
    {
      "cell_type": "markdown",
      "metadata": {
        "id": "j3F_C_x8DIKN",
        "colab_type": "text"
      },
      "source": [
        "Finding ATE"
      ]
    },
    {
      "cell_type": "code",
      "metadata": {
        "id": "2UIMfF8JCS_C",
        "colab_type": "code",
        "outputId": "7e07d20c-e560-4da1-a92e-ca451015d409",
        "colab": {
          "base_uri": "https://localhost:8080/",
          "height": 118
        }
      },
      "source": [
        "def s_learner_ate(X, t, y, pp, ps, trim=True):\n",
        "    if trim:\n",
        "        X, t, _, ov = prop(X, t, pp=pp,trim=True)\n",
        "        y = y[ov]\n",
        "    X = X.reset_index(drop=True)\n",
        "    nf = len(list(X))\n",
        "    stacked_t = np.transpose(np.tile(t, (nf + 1, 1)))\n",
        "    Xt = pd.concat([X, pd.DataFrame(stacked_t)], axis=1)\n",
        "    X0 = pd.concat([X, pd.DataFrame(np.zeros((len(t), nf + 1)))], axis=1)\n",
        "    X1 = pd.concat([X, pd.DataFrame(np.ones((len(t), nf + 1)))], axis=1)\n",
        "    xgb = XGBClassifier(**ps, n_jobs=-1)\n",
        "    xgb.fit(Xt, y)\n",
        "    return np.mean(xgb.predict_proba(X1)[:, 1] - xgb.predict_proba(X0)[:, 1])\n",
        "\n",
        "print('For the entire population:')\n",
        "print('ATE = ', s_learner_ate(X, t, y, pp=pp, ps=ps))\n",
        "print('For the men:')\n",
        "print('ATE = ', s_learner_ate(X[male], t[male], y[male],\n",
        "                              pp=ppm, ps=psm))\n",
        "print('For the women:')\n",
        "print('ATE = ', s_learner_ate(X[female], t[female], y[female],\n",
        "                              pp=ppf, ps=psf))"
      ],
      "execution_count": 37,
      "outputs": [
        {
          "output_type": "stream",
          "text": [
            "For the entire population:\n",
            "ATE =  0.29176554\n",
            "For the men:\n",
            "ATE =  0.32108483\n",
            "For the women:\n",
            "ATE =  0.27316675\n"
          ],
          "name": "stdout"
        }
      ]
    },
    {
      "cell_type": "markdown",
      "metadata": {
        "id": "rSSZptj_hFz-",
        "colab_type": "text"
      },
      "source": [
        "T learner"
      ]
    },
    {
      "cell_type": "code",
      "metadata": {
        "id": "J2KOze0uh5fe",
        "colab_type": "code",
        "outputId": "0faf80c0-f3b2-49f3-81b6-285ff2b0530e",
        "colab": {
          "base_uri": "https://localhost:8080/",
          "height": 874
        }
      },
      "source": [
        "def grid_search_t(X, t, y, pp,trim=True):\n",
        "    if trim:\n",
        "        X, t, _, ov = prop(X, t, pp=pp, trim=True)\n",
        "        y = y[ov]\n",
        "    params = {\n",
        "        'gamma': [0.5, 1, 1.5, 2],\n",
        "        'learning_rate': [0.1, 0.2, 0.3],\n",
        "        'max_depth': [3, 4, 5],\n",
        "        'n_estimators': [40, 60, 80]\n",
        "    }\n",
        "    model1 = XGBClassifier(n_jobs=1)\n",
        "    X1 = X[t==1].reset_index(drop=True)\n",
        "    cv = KFold(shuffle=True, random_state=42)\n",
        "    gs1 = GridSearchCV(model1, params, scoring='roc_auc', n_jobs=4, cv=cv,\n",
        "                       verbose=1)\n",
        "    gs1.fit(X1, y[t == 1])\n",
        "    print('best parmeters for the treated:', gs1.best_params_)\n",
        "    print('best AUC for the treated:', gs1.best_score_)\n",
        "    pt1 = gs1.best_params_\n",
        "    model0 = XGBClassifier(n_jobs=1)\n",
        "    X0 = X[t==0].reset_index(drop=True)\n",
        "    gs0 = GridSearchCV(model0, params, scoring='roc_auc', n_jobs=4, cv=cv,\n",
        "                       verbose=1)\n",
        "    gs0.fit(X[t == 0], y[t == 0])\n",
        "    print('best parmeters for the control:', gs0.best_params_)\n",
        "    print('best AUC for the control:', gs0.best_score_)\n",
        "    pt0 = gs0.best_params_\n",
        "    return pt0, pt1\n",
        "\n",
        "# T learner parmeters for the entire population\n",
        "print('For the entire population:')\n",
        "pt0, pt1 = grid_search_t(X, t, y, pp)\n",
        "# T learner parmeters for the male\n",
        "print('For the men:')\n",
        "ptm0, ptm1 = grid_search_t(X[male], t[male], y[male], ppm)\n",
        "# T learner parmeters for the female\n",
        "print('For the women:')\n",
        "ptf0, ptf1 = grid_search_t(X[female], t[female], y[female], ppf)"
      ],
      "execution_count": 0,
      "outputs": [
        {
          "output_type": "stream",
          "text": [
            "For the entire population:\n",
            "Fitting 5 folds for each of 108 candidates, totalling 540 fits\n"
          ],
          "name": "stdout"
        },
        {
          "output_type": "stream",
          "text": [
            "[Parallel(n_jobs=4)]: Using backend LokyBackend with 4 concurrent workers.\n",
            "[Parallel(n_jobs=4)]: Done  42 tasks      | elapsed:   19.3s\n",
            "[Parallel(n_jobs=4)]: Done 192 tasks      | elapsed:  1.3min\n",
            "[Parallel(n_jobs=4)]: Done 442 tasks      | elapsed:  2.8min\n",
            "[Parallel(n_jobs=4)]: Done 540 out of 540 | elapsed:  3.5min finished\n"
          ],
          "name": "stderr"
        },
        {
          "output_type": "stream",
          "text": [
            "best parmeters for the treated: {'gamma': 1, 'learning_rate': 0.3, 'max_depth': 4, 'n_estimators': 80}\n",
            "best AUC for the treated: 0.8497052497811453\n",
            "Fitting 5 folds for each of 108 candidates, totalling 540 fits\n"
          ],
          "name": "stdout"
        },
        {
          "output_type": "stream",
          "text": [
            "[Parallel(n_jobs=4)]: Using backend LokyBackend with 4 concurrent workers.\n",
            "[Parallel(n_jobs=4)]: Done  42 tasks      | elapsed:   19.6s\n",
            "[Parallel(n_jobs=4)]: Done 192 tasks      | elapsed:  1.5min\n",
            "[Parallel(n_jobs=4)]: Done 442 tasks      | elapsed:  3.4min\n",
            "[Parallel(n_jobs=4)]: Done 540 out of 540 | elapsed:  4.1min finished\n"
          ],
          "name": "stderr"
        },
        {
          "output_type": "stream",
          "text": [
            "best parmeters for the control: {'gamma': 0.5, 'learning_rate': 0.3, 'max_depth': 5, 'n_estimators': 40}\n",
            "best AUC for the control: 0.8574959616329633\n",
            "For the men:\n",
            "Fitting 5 folds for each of 108 candidates, totalling 540 fits\n"
          ],
          "name": "stdout"
        },
        {
          "output_type": "stream",
          "text": [
            "[Parallel(n_jobs=4)]: Using backend LokyBackend with 4 concurrent workers.\n",
            "[Parallel(n_jobs=4)]: Done  42 tasks      | elapsed:    8.6s\n",
            "[Parallel(n_jobs=4)]: Done 192 tasks      | elapsed:   38.6s\n",
            "[Parallel(n_jobs=4)]: Done 442 tasks      | elapsed:  1.5min\n",
            "[Parallel(n_jobs=4)]: Done 540 out of 540 | elapsed:  1.8min finished\n"
          ],
          "name": "stderr"
        },
        {
          "output_type": "stream",
          "text": [
            "best parmeters for the treated: {'gamma': 2, 'learning_rate': 0.2, 'max_depth': 5, 'n_estimators': 40}\n",
            "best AUC for the treated: 0.8629286030228773\n",
            "Fitting 5 folds for each of 108 candidates, totalling 540 fits\n"
          ],
          "name": "stdout"
        },
        {
          "output_type": "stream",
          "text": [
            "[Parallel(n_jobs=4)]: Using backend LokyBackend with 4 concurrent workers.\n",
            "[Parallel(n_jobs=4)]: Done  42 tasks      | elapsed:    8.1s\n",
            "[Parallel(n_jobs=4)]: Done 192 tasks      | elapsed:   35.5s\n",
            "[Parallel(n_jobs=4)]: Done 442 tasks      | elapsed:  1.4min\n",
            "[Parallel(n_jobs=4)]: Done 540 out of 540 | elapsed:  1.7min finished\n"
          ],
          "name": "stderr"
        },
        {
          "output_type": "stream",
          "text": [
            "best parmeters for the control: {'gamma': 1.5, 'learning_rate': 0.2, 'max_depth': 3, 'n_estimators': 60}\n",
            "best AUC for the control: 0.858084587059999\n",
            "For the women:\n",
            "Fitting 5 folds for each of 108 candidates, totalling 540 fits\n"
          ],
          "name": "stdout"
        },
        {
          "output_type": "stream",
          "text": [
            "[Parallel(n_jobs=4)]: Using backend LokyBackend with 4 concurrent workers.\n",
            "[Parallel(n_jobs=4)]: Done  42 tasks      | elapsed:    8.3s\n",
            "[Parallel(n_jobs=4)]: Done 192 tasks      | elapsed:   36.3s\n",
            "[Parallel(n_jobs=4)]: Done 442 tasks      | elapsed:  1.4min\n",
            "[Parallel(n_jobs=4)]: Done 540 out of 540 | elapsed:  1.7min finished\n"
          ],
          "name": "stderr"
        },
        {
          "output_type": "stream",
          "text": [
            "best parmeters for the treated: {'gamma': 1, 'learning_rate': 0.2, 'max_depth': 3, 'n_estimators': 80}\n",
            "best AUC for the treated: 0.8358640327018234\n",
            "Fitting 5 folds for each of 108 candidates, totalling 540 fits\n"
          ],
          "name": "stdout"
        },
        {
          "output_type": "stream",
          "text": [
            "[Parallel(n_jobs=4)]: Using backend LokyBackend with 4 concurrent workers.\n",
            "[Parallel(n_jobs=4)]: Done  42 tasks      | elapsed:   11.6s\n",
            "[Parallel(n_jobs=4)]: Done 192 tasks      | elapsed:   51.4s\n",
            "[Parallel(n_jobs=4)]: Done 442 tasks      | elapsed:  2.0min\n",
            "[Parallel(n_jobs=4)]: Done 540 out of 540 | elapsed:  2.4min finished\n"
          ],
          "name": "stderr"
        },
        {
          "output_type": "stream",
          "text": [
            "best parmeters for the control: {'gamma': 1.5, 'learning_rate': 0.2, 'max_depth': 3, 'n_estimators': 80}\n",
            "best AUC for the control: 0.8629590118944115\n"
          ],
          "name": "stdout"
        }
      ]
    },
    {
      "cell_type": "markdown",
      "metadata": {
        "id": "R1zW_zXCwyfM",
        "colab_type": "text"
      },
      "source": [
        "pre computed parmeters"
      ]
    },
    {
      "cell_type": "code",
      "metadata": {
        "id": "zPRcPl1ww6TN",
        "colab_type": "code",
        "colab": {}
      },
      "source": [
        "pt0 = {'gamma': 0.5, 'learning_rate': 0.3, 'max_depth': 5, 'n_estimators': 40}\n",
        "pt1 = {'gamma': 1, 'learning_rate': 0.3, 'max_depth': 4, 'n_estimators': 80}\n",
        "ptm0 =  {'gamma': 1.5, 'learning_rate': 0.2, 'max_depth': 3, 'n_estimators': 60}\n",
        "ptm1 = {'gamma': 2, 'learning_rate': 0.2, 'max_depth': 5, 'n_estimators': 40}\n",
        "ptf0 = {'gamma': 1.5, 'learning_rate': 0.2, 'max_depth': 3, 'n_estimators': 80}\n",
        "ptf1 = {'gamma': 1, 'learning_rate': 0.2, 'max_depth': 3, 'n_estimators': 80}"
      ],
      "execution_count": 0,
      "outputs": []
    },
    {
      "cell_type": "markdown",
      "metadata": {
        "id": "YouZnZ5_yRfx",
        "colab_type": "text"
      },
      "source": [
        "Finding ATE"
      ]
    },
    {
      "cell_type": "code",
      "metadata": {
        "id": "s9PUPAVeyWRj",
        "colab_type": "code",
        "outputId": "5924b041-874f-4f2f-95f6-1312b4f7661c",
        "colab": {
          "base_uri": "https://localhost:8080/",
          "height": 118
        }
      },
      "source": [
        "def t_learner_ate(X, t, y, pp, pt0, pt1, trim=True):\n",
        "    if trim:\n",
        "        X, t, _, ov = prop(X, t, pp=pp,trim=True)\n",
        "        y = y[ov]\n",
        "    xgb1 = XGBClassifier(**pt1, n_jobs=-1)\n",
        "    xgb1.fit(X[t == 1], y[t == 1])\n",
        "    xgb0 = XGBClassifier(**pt0, n_jobs=-1)\n",
        "    xgb0.fit(X[t == 0], y[t == 0])\n",
        "    return np.mean(xgb1.predict_proba(X)[:, 1] - xgb0.predict_proba(X)[:, 1])\n",
        "\n",
        "print('For the entire population:')\n",
        "print('ATE = ', t_learner_ate(X, t, y, pp=pp, pt0=pt0, pt1=pt1))\n",
        "print('For the men:')\n",
        "print('ATE = ', t_learner_ate(X[male], t[male], y[male],\n",
        "                              pp=ppm, pt0=ptm0, pt1=ptm1))\n",
        "print('For the women:')\n",
        "print('ATE = ', t_learner_ate(X[female], t[female], y[female],\n",
        "                              pp=ppf, pt0=ptf0, pt1=ptf1))\n"
      ],
      "execution_count": 39,
      "outputs": [
        {
          "output_type": "stream",
          "text": [
            "For the entire population:\n",
            "ATE =  0.29964003\n",
            "For the men:\n",
            "ATE =  0.32019448\n",
            "For the women:\n",
            "ATE =  0.2791014\n"
          ],
          "name": "stdout"
        }
      ]
    },
    {
      "cell_type": "markdown",
      "metadata": {
        "id": "iGmix8E061y1",
        "colab_type": "text"
      },
      "source": [
        "Doubly roubust"
      ]
    },
    {
      "cell_type": "markdown",
      "metadata": {
        "id": "n8BB1i157lvE",
        "colab_type": "text"
      },
      "source": [
        "With T learner"
      ]
    },
    {
      "cell_type": "code",
      "metadata": {
        "id": "HHWVft_86qFY",
        "colab_type": "code",
        "outputId": "90db304c-516d-4ead-ced7-b2852053a2d6",
        "colab": {
          "base_uri": "https://localhost:8080/",
          "height": 118
        }
      },
      "source": [
        "def dr_t_ate(X, t, y, pp, pt0, pt1, trim=True, return_orig=False):\n",
        "    # if return_orig is True the function will return both the original learner\n",
        "    # ate and the dr ate\n",
        "    X, t, e, ov = prop(X, t, pp=pp, trim=trim)\n",
        "    if trim:\n",
        "        y = y[ov]\n",
        "    xgb1 = xgb = XGBClassifier(**pt1, n_jobs=-1)\n",
        "    xgb1.fit(X[t == 1], y[t == 1])\n",
        "    xgb0 = xgb = XGBClassifier(**pt0, n_jobs=-1)\n",
        "    xgb0.fit(X[t == 0], y[t == 0])\n",
        "    m1 = xgb1.predict_proba(X)[:, 1]\n",
        "    m0 = xgb0.predict_proba(X)[:, 1]\n",
        "    if return_orig:\n",
        "        return np.mean(m1 - m0), np.mean(m1 - (t / e) * (m1 - y) - m0 + ((1 - t) / (1 - e)) * (m0 - y))\n",
        "    return np.mean(m1 - (t / e) * (m1 - y) - m0 + ((1 - t) / (1 - e)) * (m0 - y))\n",
        "\n",
        "print('For the entire population:')\n",
        "print('ATE = ', dr_t_ate(X, t, y, pp=pp, pt0=pt0, pt1=pt1))\n",
        "print('For the men:')\n",
        "print('ATE = ', dr_t_ate(X[male], t[male], y[male],\n",
        "                              pp=ppm, pt0=ptm0, pt1=ptm1))\n",
        "print('For the women:')\n",
        "print('ATE = ', dr_t_ate(X[female], t[female], y[female],\n",
        "                              pp=ppf, pt0=ptf0, pt1=ptf1))\n"
      ],
      "execution_count": 40,
      "outputs": [
        {
          "output_type": "stream",
          "text": [
            "For the entire population:\n",
            "ATE =  0.29516478219667736\n",
            "For the men:\n",
            "ATE =  0.31219418044410197\n",
            "For the women:\n",
            "ATE =  0.2715234792909312\n"
          ],
          "name": "stdout"
        }
      ]
    },
    {
      "cell_type": "markdown",
      "metadata": {
        "id": "pxWngXwNHVU2",
        "colab_type": "text"
      },
      "source": [
        "With S learner"
      ]
    },
    {
      "cell_type": "code",
      "metadata": {
        "id": "W0Nc4n2OHOxi",
        "colab_type": "code",
        "outputId": "5d5ece43-1b1f-4527-9d04-f8867aae412f",
        "colab": {
          "base_uri": "https://localhost:8080/",
          "height": 118
        }
      },
      "source": [
        "def dr_s_ate(X, t, y, pp, ps, trim=True, return_orig=False):\n",
        "    # if return_orig is True the function will return both the original learner\n",
        "    # ate and the dr ate\n",
        "    if trim:\n",
        "        X, t, e, ov = prop(X, t, pp=pp,trim=True)\n",
        "        y = y[ov]\n",
        "    X = X.reset_index(drop=True)\n",
        "    nf = len(list(X))\n",
        "    stacked_t = np.transpose(np.tile(t, (nf + 1, 1)))\n",
        "    Xt = pd.concat([X, pd.DataFrame(stacked_t)], axis=1)\n",
        "    X0 = pd.concat([X, pd.DataFrame(np.zeros((len(t), nf + 1)))], axis=1)\n",
        "    X1 = pd.concat([X, pd.DataFrame(np.ones((len(t), nf + 1)))], axis=1)\n",
        "    xgb = XGBClassifier(**ps, n_jobs=-1)\n",
        "    xgb.fit(Xt, y)\n",
        "    m1 = xgb.predict_proba(X1)[:, 1]\n",
        "    m0 = xgb.predict_proba(X0)[:, 1]\n",
        "    if return_orig:\n",
        "        return np.mean(m1 - m0), np.mean(m1 - (t / e) * (m1 - y) - m0 + ((1 - t) / (1 - e)) * (m0 - y))\n",
        "    return np.mean(m1 - (t / e) * (m1 - y) - m0 + ((1 - t) / (1 - e)) * (m0 - y))\n",
        "\n",
        "print('For the entire population:')\n",
        "print('ATE = ', dr_s_ate(X, t, y, pp=pp, ps=ps))\n",
        "print('For the men:')\n",
        "print('ATE = ', dr_s_ate(X[male], t[male], y[male],\n",
        "                              pp=ppm, ps=psm))\n",
        "print('For the women:')\n",
        "print('ATE = ', dr_s_ate(X[female], t[female], y[female],\n",
        "                              pp=ppf, ps=psf))\n"
      ],
      "execution_count": 41,
      "outputs": [
        {
          "output_type": "stream",
          "text": [
            "For the entire population:\n",
            "ATE =  0.28592860501413475\n",
            "For the men:\n",
            "ATE =  0.31298555047436716\n",
            "For the women:\n",
            "ATE =  0.2650678593256518\n"
          ],
          "name": "stdout"
        }
      ]
    },
    {
      "cell_type": "markdown",
      "metadata": {
        "id": "bDVBN6cyANJG",
        "colab_type": "text"
      },
      "source": [
        "**Bootstrap**\n",
        "\n",
        "The bias is computed by the mean of the bootstrap minus our estimation of the ate.\n",
        "\n",
        "**NOTE**: ignore the men vs women confidence interval we made a mistake during their construction and they does not appear in the report either"
      ]
    },
    {
      "cell_type": "code",
      "metadata": {
        "id": "zouFi4wNAYJm",
        "colab_type": "code",
        "colab": {}
      },
      "source": [
        "def print_bootstrap_results(label, ate_est, res, a=(0.1, 0.05)):\n",
        "    print(label)\n",
        "    mean = res.mean()\n",
        "    print('estimate on the entire data:', ate_est)\n",
        "    print('boostrap mean:', mean)\n",
        "    print('estimated bias:', mean - ate_est)\n",
        "    d = ate_est - res\n",
        "    for conf in a:\n",
        "        print('confidence interval at level ',\n",
        "              '{p: 2d}%'.format(p=int((1-conf)*100)),\n",
        "              ': [', ate_est + np.quantile(d, conf/2, interpolation='midpoint'),\n",
        "              ',', mean + np.quantile(d, 1-conf/2, interpolation='midpoint'), ']')\n",
        "    print('')\n",
        "\n",
        "\n",
        "def bootstrap_ate(estimator, estimators_param, X_list, t_list, y_list, wave_list, \n",
        "                  waves=waves, dr=False, n=999, a=(0.1, 0.05)):\n",
        "    '''This function will print out bootstrap statistics with n replications \n",
        "    for the entire population, the men and the women using estimator \n",
        "    were estimators_param is a list of parmaters for use of estimator for \n",
        "    each population. X_list, t_list, y_list, wave_list are list of features,\n",
        "    tereatment, outcome, and wave for each poulation. if dr is True the doubly \n",
        "    roubast will be printed to used only the estimator has doubly roubast version\n",
        "    with that version. a is the alpha values for the confidence intervals.'''\n",
        "    ate_est_list = []\n",
        "    label_list = ['For the entire population',\n",
        "                  'For the men',\n",
        "                  'For the women']\n",
        "    if not dr:\n",
        "        res_list = [np.zeros(n), np.zeros(n), np.zeros(n)]\n",
        "    else:\n",
        "        res_list = [(np.zeros(n), np.zeros(n)), (np.zeros(n), np.zeros(n)),\n",
        "                   (np.zeros(n), np.zeros(n))]\n",
        "    group_iter = zip(X_list, t_list, y_list, wave_list, \n",
        "                     estimators_param, res_list, label_list)\n",
        "    for X, t, y, wave, estimator_param, res, l in group_iter:\n",
        "        if not dr:\n",
        "            ate_est = estimator(X, t, y, **estimator_param)\n",
        "            ate_est_list.append(ate_est)\n",
        "        else:\n",
        "            ate_est = estimator(X, t, y, **estimator_param)\n",
        "            ate_est_list.append(ate_est)\n",
        "        waves = np.array(waves)\n",
        "        m = len(waves)\n",
        "        X = X.reset_index(drop=True)\n",
        "        for i in range(n):\n",
        "            sample_waves = waves[np.random.randint(m, size=m)]\n",
        "            sample_ind = np.isin(wave, sample_waves)\n",
        "            Xs, ts, ys = X[sample_ind], t[sample_ind], y[sample_ind]\n",
        "            Xs = Xs.reset_index(drop=True)\n",
        "            if not dr:\n",
        "                res[i] = estimator(Xs, ts, ys, **estimator_param)\n",
        "            else:\n",
        "                res[0][i], res[1][i] = estimator(Xs, ts, ys, **estimator_param)\n",
        "        if not dr:\n",
        "            print_bootstrap_results(l+':', ate_est, res, a=a)\n",
        "        if dr:\n",
        "            print_bootstrap_results(l+' without doubly roubast:',\n",
        "                                    ate_est[0], res[0], a=a)\n",
        "            print_bootstrap_results(l+' with doubly roubast:',\n",
        "                                    ate_est[1], res[1], a=a)\n",
        "    l = 'Differnce between men and women ATE'\n",
        "    if not dr:\n",
        "        print_bootstrap_results(l+':', ate_est_list[1] - ate_est_list[2],\n",
        "                                res_list[1] - res_list[2], a=a)\n",
        "    else:\n",
        "        print_bootstrap_results(l+' without doubly roubast:',\n",
        "                                ate_est_list[1][0] - ate_est_list[2][0],\n",
        "                                res_list[1][0] - res_list[2][0], a=a)\n",
        "        print_bootstrap_results(l+' with doubly roubast:',\n",
        "                                ate_est_list[1][1] - ate_est_list[2][1],\n",
        "                                res_list[1][1] - res_list[2][1], a=a) \n",
        "\n",
        "\n",
        "X_list = [X, X[male], X[female]]    \n",
        "t_list = [t, t[male], t[female]]\n",
        "y_list = [y, y[male], y[female]]\n",
        "wave_list = [wave, wave[male], wave[female]]\n",
        "\n"
      ],
      "execution_count": 0,
      "outputs": []
    },
    {
      "cell_type": "markdown",
      "metadata": {
        "id": "XdzCDj3Wu8Nx",
        "colab_type": "text"
      },
      "source": [
        "For IPTW"
      ]
    },
    {
      "cell_type": "code",
      "metadata": {
        "id": "DvqFqeJhu_A-",
        "colab_type": "code",
        "colab": {
          "base_uri": "https://localhost:8080/",
          "height": 487
        },
        "outputId": "38085efd-498e-4aa8-bbb6-ead44298f33c"
      },
      "source": [
        "p_param = [{'pp': pp}, {'pp': ppm}, {'pp': ppf}]\n",
        "bootstrap_ate(iptw, p_param, X_list, t_list, y_list, wave_list)"
      ],
      "execution_count": 65,
      "outputs": [
        {
          "output_type": "stream",
          "text": [
            "For the entire population:\n",
            "estimate on the entire data: 0.3413150927335008\n",
            "boostrap mean: 0.34252927081469603\n",
            "estimated bias: 0.0012141780811952274\n",
            "confidence interval at level   90% : [ 0.31255467331042747 , 0.3722893739870734 ]\n",
            "confidence interval at level   95% : [ 0.3078690823445418 , 0.377663697555532 ]\n",
            "\n",
            "For the men:\n",
            "estimate on the entire data: 0.38139762908711156\n",
            "boostrap mean: 0.37298383863608653\n",
            "estimated bias: -0.008413790451025027\n",
            "confidence interval at level   90% : [ 0.33376941175441643 , 0.44126317336531284 ]\n",
            "confidence interval at level   95% : [ 0.32484818772709445 , 0.4518411202856163 ]\n",
            "\n",
            "For the women:\n",
            "estimate on the entire data: 0.32443409692615716\n",
            "boostrap mean: 0.31703689885288316\n",
            "estimated bias: -0.007397198073273992\n",
            "confidence interval at level   90% : [ 0.3047145831012093 , 0.3553054495403049 ]\n",
            "confidence interval at level   95% : [ 0.2982803368042163 , 0.3612876433032176 ]\n",
            "\n",
            "Differnce between men and women ATE:\n",
            "estimate on the entire data: 0.0569635321609544\n",
            "boostrap mean: 0.05594693978320334\n",
            "estimated bias: -0.0010165923777510633\n",
            "confidence interval at level   90% : [ -0.004033921196795992 , 0.12331610126823966 ]\n",
            "confidence interval at level   95% : [ -0.01706109330431413 , 0.13642233961590042 ]\n",
            "\n"
          ],
          "name": "stdout"
        }
      ]
    },
    {
      "cell_type": "markdown",
      "metadata": {
        "id": "hhA3D12ivcUK",
        "colab_type": "text"
      },
      "source": [
        "For S learner"
      ]
    },
    {
      "cell_type": "code",
      "metadata": {
        "id": "C-tnGAA5vjF5",
        "colab_type": "code",
        "colab": {
          "base_uri": "https://localhost:8080/",
          "height": 958
        },
        "outputId": "021646a5-cb87-44ed-c05a-83582a1ff274"
      },
      "source": [
        "s_param = [{'pp': pp, 'ps': ps, 'return_orig': True},\n",
        "           {'pp': ppm, 'ps': psm, 'return_orig': True},\n",
        "           {'pp': ppf, 'ps': psf, 'return_orig': True}]\n",
        "\n",
        "bootstrap_ate(dr_s_ate, s_param, X_list, t_list, y_list, wave_list, dr=True)"
      ],
      "execution_count": 66,
      "outputs": [
        {
          "output_type": "stream",
          "text": [
            "For the entire population without doubly roubast:\n",
            "estimate on the entire data: 0.29176554\n",
            "boostrap mean: 0.2998524298956683\n",
            "estimated bias: 0.008086889057426716\n",
            "confidence interval at level   90% : [ 0.24735912680625916 , 0.3194653382590106 ]\n",
            "confidence interval at level   95% : [ 0.24267089366912842 , 0.3230198910525134 ]\n",
            "\n",
            "For the entire population with doubly roubast:\n",
            "estimate on the entire data: 0.28592860501413475\n",
            "boostrap mean: 0.29356790264403154\n",
            "estimated bias: 0.007639297629896791\n",
            "confidence interval at level   90% : [ 0.24343931889770745 , 0.313120547148803 ]\n",
            "confidence interval at level   95% : [ 0.2377023137444359 , 0.31652371757500763 ]\n",
            "\n",
            "For the men without doubly roubast:\n",
            "estimate on the entire data: 0.32108483\n",
            "boostrap mean: 0.3227652335339958\n",
            "estimated bias: 0.0016804063493186527\n",
            "confidence interval at level   90% : [ 0.25780466198921204 , 0.37031820656599346 ]\n",
            "confidence interval at level   95% : [ 0.24982194602489471 , 0.3799842322045738 ]\n",
            "\n",
            "For the men with doubly roubast:\n",
            "estimate on the entire data: 0.31298555047436716\n",
            "boostrap mean: 0.31562981386599137\n",
            "estimated bias: 0.002644263391624213\n",
            "confidence interval at level   90% : [ 0.24909688894339627 , 0.36201474778687986 ]\n",
            "confidence interval at level   95% : [ 0.2403342610587399 , 0.37255042210840605 ]\n",
            "\n",
            "For the women without doubly roubast:\n",
            "estimate on the entire data: 0.27316675\n",
            "boostrap mean: 0.2828400767780281\n",
            "estimated bias: 0.009673330876920294\n",
            "confidence interval at level   90% : [ 0.23277348279953003 , 0.3008228875137306 ]\n",
            "confidence interval at level   95% : [ 0.22656184434890747 , 0.30260777840385206 ]\n",
            "\n",
            "For the women with doubly roubast:\n",
            "estimate on the entire data: 0.2650678593256518\n",
            "boostrap mean: 0.2757276837716188\n",
            "estimated bias: 0.010659824445967025\n",
            "confidence interval at level   90% : [ 0.22281518582868134 , 0.2929190644746899 ]\n",
            "confidence interval at level   95% : [ 0.21606648121880062 , 0.29497155670834885 ]\n",
            "\n",
            "Differnce between men and women ATE without doubly roubast:\n",
            "estimate on the entire data: 0.04791808\n",
            "boostrap mean: 0.03992515675596766\n",
            "estimated bias: -0.007992924527601676\n",
            "confidence interval at level   90% : [ -0.010713323950767517 , 0.10693774990610652 ]\n",
            "confidence interval at level   95% : [ -0.0215122252702713 , 0.11981247983746104 ]\n",
            "\n",
            "Differnce between men and women ATE with doubly roubast:\n",
            "estimate on the entire data: 0.04791769114871536\n",
            "boostrap mean: 0.039902130094372545\n",
            "estimated bias: -0.008015561054342812\n",
            "confidence interval at level   90% : [ -0.011422180922211214 , 0.10740308558006631 ]\n",
            "confidence interval at level   95% : [ -0.022961027728108263 , 0.12030465814072178 ]\n",
            "\n"
          ],
          "name": "stdout"
        }
      ]
    },
    {
      "cell_type": "markdown",
      "metadata": {
        "id": "6guoI4HJxldC",
        "colab_type": "text"
      },
      "source": [
        "For t learner"
      ]
    },
    {
      "cell_type": "code",
      "metadata": {
        "id": "uzBDzgsNxoJc",
        "colab_type": "code",
        "colab": {
          "base_uri": "https://localhost:8080/",
          "height": 958
        },
        "outputId": "af9835c7-8d23-4cd9-ae9e-e0a03ce57c10"
      },
      "source": [
        "t_param = [{'pp': pp, 'pt0': pt0, 'pt1': pt1, 'return_orig': True},\n",
        "           {'pp': ppm, 'pt0': ptm0, 'pt1': ptm1, 'return_orig': True},\n",
        "           {'pp': ppf, 'pt0': ptf0, 'pt1': ptf1, 'return_orig': True}]\n",
        "\n",
        "bootstrap_ate(dr_t_ate, t_param, X_list, t_list, y_list, wave_list, dr=True)"
      ],
      "execution_count": 67,
      "outputs": [
        {
          "output_type": "stream",
          "text": [
            "For the entire population without doubly roubast:\n",
            "estimate on the entire data: 0.29964003\n",
            "boostrap mean: 0.3063011805156807\n",
            "estimated bias: 0.006661150846872743\n",
            "confidence interval at level   90% : [ 0.2597891837358475 , 0.3283438722232918 ]\n",
            "confidence interval at level   95% : [ 0.2525211572647095 , 0.33323118487397235 ]\n",
            "\n",
            "For the entire population with doubly roubast:\n",
            "estimate on the entire data: 0.29516478219667736\n",
            "boostrap mean: 0.3027791018522326\n",
            "estimated bias: 0.007614319655555257\n",
            "confidence interval at level   90% : [ 0.2537626181328777 , 0.3240214005521379 ]\n",
            "confidence interval at level   95% : [ 0.24687186504229086 , 0.3290448526399704 ]\n",
            "\n",
            "For the men without doubly roubast:\n",
            "estimate on the entire data: 0.32019448\n",
            "boostrap mean: 0.3299860523060874\n",
            "estimated bias: 0.00979156950274268\n",
            "confidence interval at level   90% : [ 0.2546180784702301 , 0.3702423737362937 ]\n",
            "confidence interval at level   95% : [ 0.2479519098997116 , 0.3754125104264335 ]\n",
            "\n",
            "For the men with doubly roubast:\n",
            "estimate on the entire data: 0.31219418044410197\n",
            "boostrap mean: 0.3213399882544833\n",
            "estimated bias: 0.009145807810381323\n",
            "confidence interval at level   90% : [ 0.2487829734366973 , 0.36049532005776525 ]\n",
            "confidence interval at level   95% : [ 0.24148616853184363 , 0.36903458780896925 ]\n",
            "\n",
            "For the women without doubly roubast:\n",
            "estimate on the entire data: 0.2791014\n",
            "boostrap mean: 0.28917760155103106\n",
            "estimated bias: 0.010076199983571954\n",
            "confidence interval at level   90% : [ 0.23591789603233337 , 0.30886340639493365 ]\n",
            "confidence interval at level   95% : [ 0.22769765555858612 , 0.3113521685352077 ]\n",
            "\n",
            "For the women with doubly roubast:\n",
            "estimate on the entire data: 0.2715234792909312\n",
            "boostrap mean: 0.2814011739884177\n",
            "estimated bias: 0.009877694697486505\n",
            "confidence interval at level   90% : [ 0.2270840535886233 , 0.3016831092136392 ]\n",
            "confidence interval at level   95% : [ 0.22033766189944692 , 0.3044517665253599 ]\n",
            "\n",
            "Differnce between men and women ATE without doubly roubast:\n",
            "estimate on the entire data: 0.04109308\n",
            "boostrap mean: 0.04080845075505632\n",
            "estimated bias: -0.000284630480829301\n",
            "confidence interval at level   90% : [ -0.021231621503829956 , 0.1007401909198131 ]\n",
            "confidence interval at level   95% : [ -0.032017096877098083 , 0.11589711564439195 ]\n",
            "\n",
            "Differnce between men and women ATE with doubly roubast:\n",
            "estimate on the entire data: 0.040670701153170785\n",
            "boostrap mean: 0.039938814266065575\n",
            "estimated bias: -0.0007318868871052098\n",
            "confidence interval at level   90% : [ -0.019850159288639785 , 0.10182440133505988 ]\n",
            "confidence interval at level   95% : [ -0.03251955138149301 , 0.1150305808932495 ]\n",
            "\n"
          ],
          "name": "stdout"
        }
      ]
    }
  ]
}
